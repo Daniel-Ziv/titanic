{
 "cells": [
  {
   "cell_type": "markdown",
   "id": "ec202ada",
   "metadata": {
    "id": "ec202ada",
    "jp-MarkdownHeadingCollapsed": true
   },
   "source": [
    "# Assignment - Supervised Learning flow"
   ]
  },
  {
   "cell_type": "markdown",
   "id": "b06a2810",
   "metadata": {
    "id": "b06a2810"
   },
   "source": [
    "# Part 1(a) Student details:\n",
    "* Please write the First-Name, First letter of Last-Name and last 4 digits of the i.d. for each student."
   ]
  },
  {
   "cell_type": "code",
   "execution_count": 113,
   "id": "ca16486b",
   "metadata": {
    "executionInfo": {
     "elapsed": 9,
     "status": "ok",
     "timestamp": 1756822445466,
     "user": {
      "displayName": "Daniel Ziv",
      "userId": "10527873713245441567"
     },
     "user_tz": -180
    },
    "id": "ca16486b"
   },
   "outputs": [],
   "source": [
    "# stundent details example: John S. 9812\n",
    "#                       student details 1: Daniel Z. 8060\n",
    "#                       student details 2: Adi C. 4050\n"
   ]
  },
  {
   "cell_type": "markdown",
   "id": "abb64166-b32e-4b86-a7ee-84106c8b3a92",
   "metadata": {
    "id": "abb64166-b32e-4b86-a7ee-84106c8b3a92"
   },
   "source": [
    "## Part 1(b) - Chat-GPT/other AI-agent/other assistance used:\n",
    "* If you changed the prompt until you got a satisfying answer, please add all versions\n",
    "* don't delete \"pre\" tags, so new-line is supported\n",
    "* double click the following markdown cell to change\n",
    "* press shift+enter to view\n",
    "* Add information:"
   ]
  },
  {
   "cell_type": "markdown",
   "id": "ea93f0d3-7aa1-4a95-b084-395f5f7c6c0c",
   "metadata": {
    "id": "ea93f0d3-7aa1-4a95-b084-395f5f7c6c0c"
   },
   "source": [
    "#### Add information in this Markdown cell (double click to change, shift-enter to view)\n",
    "<pre>   \n",
    "AI agent name: ChatGPT 5 Auto  \n",
    "Goal: To make sure the dataset is clean and ready for analysis, without duplicates or missing values breaking the pipeline.\n",
    "\n",
    "Propmpt1: I have the Titanic CSV dataset. How do I check for missing values and duplicates?\n",
    "\n",
    "Propmpt2: What’s the best way to split the dataset into features (X) and target (y) before modeling?\n",
    "\n",
    "Goal: To standardize the preprocessing workflow for both numeric and categorical features, ensuring consistency across train/test splits.\n",
    "\n",
    "Propmpt1: How do I build a preprocessing pipeline for numerical features that imputes missing values and scales them with StandardScaler or MinMaxScaler?\n",
    "    \n",
    "Propmpt2: How do I preprocess categorical features by imputing missing values with the most frequent category and applying one-hot encoding?\n",
    "\n",
    "Propmpt3: How do I combine numerical and categorical pipelines with a ColumnTransformer?\n",
    "\n",
    "Goal: To train multiple models with hyperparameter tuning, ensuring fair comparison using cross-validation.\n",
    "\n",
    "Propmpt1: How can I build a full pipeline that includes preprocessing and a KNN classifier?\n",
    "    \n",
    "Propmpt2: What hyperparameters should I try for KNN (like n_neighbors and distance metric)\n",
    "    \n",
    "Propmpt3: How do I build a pipeline for Naive Bayes and tune parameters like var_smoothing and priors?\n",
    "    \n",
    "Propmpt4: How do I run GridSearchCV with cross-validation on these pipelines to compare models?\n",
    "\n",
    "Goal: To organize and compare model performance in a clear way, focusing on F1 score as the main metric.\n",
    "    \n",
    "Propmpt1: How can I sort the results by F1 score and see the best-performing setup for each model?\n",
    "    \n",
    "</pre>\n"
   ]
  },
  {
   "cell_type": "markdown",
   "id": "0e4fbaab-e5a5-40ed-be0f-9a2cb7931a4b",
   "metadata": {
    "id": "0e4fbaab-e5a5-40ed-be0f-9a2cb7931a4b"
   },
   "source": [
    "## Part 1(c) - Learning Problem and dataset explaination.\n",
    "* Please explain in one paragraph\n",
    "* don't delete \"pre\" tags, so new-line is supported\n",
    "* double click the following markdown cell to change\n",
    "* press shift+enter to view\n",
    "* Add explaining text:"
   ]
  },
  {
   "cell_type": "markdown",
   "id": "dd8565df-2778-4b89-83bd-6b227063789f",
   "metadata": {
    "id": "dd8565df-2778-4b89-83bd-6b227063789f"
   },
   "source": [
    "#### Add information in this Markdown cell (double click to change, shift-enter to view)\n",
    "<pre>\n",
    "In this assignment we work with the Titanic dataset, which contains information about the passengers such as age, gender, ticket class, family members onboard, fare price, and embarkation port. The learning problem is a supervised binary classification task, where the goal is to predict whether a passenger survived (1) or not (0) based on these features.\n",
    "\n",
    "\n",
    "\n",
    "\n",
    "    \n",
    "</pre>"
   ]
  },
  {
   "cell_type": "markdown",
   "id": "df67c2ee-87c8-499c-a04f-1853c332f51d",
   "metadata": {
    "id": "df67c2ee-87c8-499c-a04f-1853c332f51d"
   },
   "source": [
    "## Part 2 - Initial Preparations\n",
    "You could add as many code cells as needed"
   ]
  },
  {
   "cell_type": "code",
   "execution_count": 93,
   "id": "b29b3454-b568-4614-8017-f15b3c59fc55",
   "metadata": {
    "executionInfo": {
     "elapsed": 2276,
     "status": "ok",
     "timestamp": 1756823538634,
     "user": {
      "displayName": "Daniel Ziv",
      "userId": "10527873713245441567"
     },
     "user_tz": -180
    },
    "id": "b29b3454-b568-4614-8017-f15b3c59fc55"
   },
   "outputs": [],
   "source": [
    "import pandas as pd\n",
    "import joblib\n",
    "import matplotlib.pyplot as plt\n",
    "import seaborn as sns\n",
    "from sklearn.model_selection import train_test_split, cross_val_score\n",
    "from sklearn.preprocessing import StandardScaler, OneHotEncoder\n",
    "from sklearn.compose import ColumnTransformer\n",
    "from sklearn.pipeline import Pipeline\n",
    "from sklearn.ensemble import RandomForestClassifier\n",
    "from sklearn.linear_model import LogisticRegression\n",
    "from sklearn.metrics import classification_report, make_scorer\n",
    "from sklearn.impute import SimpleImputer\n",
    "from sklearn.preprocessing import StandardScaler, MinMaxScaler\n",
    "from sklearn.model_selection import GridSearchCV, cross_validate\n",
    "from sklearn.metrics import precision_score, recall_score, f1_score, make_scorer\n",
    "from sklearn.neighbors import KNeighborsClassifier\n",
    "from sklearn.naive_bayes import GaussianNB"
   ]
  },
  {
   "cell_type": "markdown",
   "id": "bLebdaaj14kv",
   "metadata": {
    "id": "bLebdaaj14kv"
   },
   "source": [
    "loading the CSV and showing 5 first rows of each data frame."
   ]
  },
  {
   "cell_type": "markdown",
   "id": "5105dabb-5b3c-4b7d-9e4a-d9ebaf070777",
   "metadata": {
    "id": "bLebdaaj14kv"
   },
   "source": [
    "loading the CSV and showing 5 first rows of each data frame."
   ]
  },
  {
   "cell_type": "code",
   "execution_count": 95,
   "id": "4b47fe56-d611-4b28-be92-673db4d56400",
   "metadata": {
    "colab": {
     "base_uri": "https://localhost:8080/",
     "height": 304
    },
    "executionInfo": {
     "elapsed": 76,
     "status": "error",
     "timestamp": 1756823540415,
     "user": {
      "displayName": "Daniel Ziv",
      "userId": "10527873713245441567"
     },
     "user_tz": -180
    },
    "id": "4b47fe56-d611-4b28-be92-673db4d56400",
    "outputId": "39c88e73-74b9-48fa-feaa-a3988dd53c20"
   },
   "outputs": [
    {
     "name": "stdout",
     "output_type": "stream",
     "text": [
      "Train Data:\n",
      "   Pclass  Sex   Age  SibSp  Parch     Fare  Embarked  Survived\n",
      "0       1    0  54.0      1      0  78.2667         1         1\n",
      "1       2    0  45.0      0      0  13.5000         0         1\n",
      "2       3    1  20.0      0      0   9.5000         0         0\n",
      "3       3    1  36.0      0      0   7.8958         0         0\n",
      "4       3    1  22.0      0      0   8.0500         0         0\n",
      "\n",
      "Test Data:\n",
      "   Pclass  Sex        Age  SibSp  Parch     Fare  Embarked  Survived\n",
      "0       3    1  35.000000      0      0   7.0500         0         0\n",
      "1       3    1  30.000000      0      0   7.2500         0         0\n",
      "2       3    1  29.699118      0      0  14.5000         0         0\n",
      "3       3    0  21.000000      0      0   7.7500         2         0\n",
      "4       3    1  32.000000      0      0  56.4958         0         1\n"
     ]
    }
   ],
   "source": [
    "train_data = pd.read_csv('titanic_train.csv')\n",
    "test_data = pd.read_csv('titanic_test.csv')\n",
    "\n",
    "print(\"Train Data:\")\n",
    "print(train_data.head())\n",
    "\n",
    "print(\"\\nTest Data:\")\n",
    "print(test_data.head())"
   ]
  },
  {
   "cell_type": "markdown",
   "id": "6135c0db-ac6e-4d76-a0a5-4c37d29d8fbd",
   "metadata": {},
   "source": [
    "# Preprocessing"
   ]
  },
  {
   "cell_type": "markdown",
   "id": "f607d0dd-72ff-49b3-8979-7bdb13273b43",
   "metadata": {},
   "source": [
    "## Data Cleansing"
   ]
  },
  {
   "cell_type": "markdown",
   "id": "237880e4-5cb8-4bb7-811f-7437316a9153",
   "metadata": {},
   "source": [
    "Handle duplicated rows\n"
   ]
  },
  {
   "cell_type": "code",
   "execution_count": 29,
   "id": "d8bbfe19-30f6-4ef8-b30f-213e067343d6",
   "metadata": {},
   "outputs": [
    {
     "name": "stdout",
     "output_type": "stream",
     "text": [
      "Number of rows in train data frame: 712\n",
      "Number of rows in train data frame after removing duplicated rows is: 632\n",
      "\n"
     ]
    }
   ],
   "source": [
    "train_num_rows = train_df.shape[0]\n",
    "print(f\"Number of rows in train data frame: {train_num_rows}\")\n",
    "\n",
    "train_df.drop_duplicates(keep='first',inplace=True)\n",
    "train_df = train_df.reset_index(drop=True)\n",
    "train_num_rows = train_df.shape[0]\n",
    "\n",
    "print(f\"Number of rows in train data frame after removing duplicated rows is: {train_num_rows}\\n\")"
   ]
  },
  {
   "cell_type": "markdown",
   "id": "3dd94bef-b9b5-4107-a75f-4206185e66ac",
   "metadata": {},
   "source": [
    "Handle none/null values"
   ]
  },
  {
   "cell_type": "code",
   "execution_count": 30,
   "id": "241b8363-de1a-4179-bbed-6f4b9c760bf9",
   "metadata": {},
   "outputs": [],
   "source": [
    "train_columns_with_none = train_df.columns[train_df.isnull().any()]\n",
    "for column in train_columns_with_none:\n",
    "    print(column)\n",
    "test_columns_with_none = test_df.columns[test_df.isnull().any()]\n",
    "for column in test_columns_with_none:\n",
    "    print(column)"
   ]
  },
  {
   "cell_type": "markdown",
   "id": "6f7be0c3-7353-4083-b9ab-5dbf2d9f7a3f",
   "metadata": {},
   "source": [
    "As we see, There are not none values in our data frames."
   ]
  },
  {
   "cell_type": "markdown",
   "id": "306122fe-70c2-4f23-bf5f-e753a6d8ebb6",
   "metadata": {},
   "source": [
    "# EDA and Feature Engineering"
   ]
  },
  {
   "cell_type": "code",
   "execution_count": 111,
   "id": "c680f767-bd1b-4263-b2cc-7d78bf4c3e3f",
   "metadata": {},
   "outputs": [
    {
     "name": "stdout",
     "output_type": "stream",
     "text": [
      "\n",
      "Train Data Summary Statistics:\n",
      "           Pclass         Sex         Age       SibSp       Parch        Fare  \\\n",
      "count  712.000000  712.000000  712.000000  712.000000  712.000000  712.000000   \n",
      "mean     2.294944    0.640449   29.531213    0.528090    0.384831   32.379429   \n",
      "std      0.841990    0.480206   13.188028    1.055052    0.803085   49.836074   \n",
      "min      1.000000    0.000000    0.670000    0.000000    0.000000    0.000000   \n",
      "25%      1.750000    0.000000   22.000000    0.000000    0.000000    7.925000   \n",
      "50%      3.000000    1.000000   29.699118    0.000000    0.000000   14.500000   \n",
      "75%      3.000000    1.000000   35.000000    1.000000    0.000000   31.275000   \n",
      "max      3.000000    1.000000   80.000000    8.000000    6.000000  512.329200   \n",
      "\n",
      "         Embarked    Survived  \n",
      "count  712.000000  712.000000  \n",
      "mean     0.372191    0.394663  \n",
      "std      0.649970    0.489122  \n",
      "min      0.000000    0.000000  \n",
      "25%      0.000000    0.000000  \n",
      "50%      0.000000    0.000000  \n",
      "75%      1.000000    1.000000  \n",
      "max      3.000000    1.000000  \n"
     ]
    },
    {
     "data": {
      "image/png": "[encoded data removed]",
      "text/plain": [
       "<Figure size 1000x500 with 1 Axes>"
      ]
     },
     "metadata": {},
     "output_type": "display_data"
    },
    {
     "data": {
      "image/png": "[encoded data removed]",
      "text/plain": [
       "<Figure size 800x500 with 1 Axes>"
      ]
     },
     "metadata": {},
     "output_type": "display_data"
    }
   ],
   "source": [
    "print(\"\\nTrain Data Summary Statistics:\")\n",
    "print(train_data.describe(include='all'))\n",
    "\n",
    "# Visualization 1: Age distribution\n",
    "plt.figure(figsize=(10, 5))\n",
    "sns.histplot(train_data['Age'].dropna(), bins=30, kde=True)\n",
    "plt.title('Age Distribution')\n",
    "plt.xlabel('Age')\n",
    "plt.ylabel('Frequency')\n",
    "plt.show()\n",
    "\n",
    "# Visualization 2: Survival by Sex\n",
    "plt.figure(figsize=(8, 5))\n",
    "sns.countplot(x='Sex', hue='Survived', data=train_data)\n",
    "plt.title('Survival Count by Sex')\n",
    "plt.xlabel('Sex')\n",
    "plt.ylabel('Count')\n",
    "plt.show()\n",
    "\n"
   ]
  },
  {
   "cell_type": "code",
   "execution_count": 107,
   "id": "e932dec7-6c48-4ead-a179-71453b993c3e",
   "metadata": {},
   "outputs": [
    {
     "data": {
      "image/png": "[encoded data removed]",
      "text/plain": [
       "<Figure size 600x600 with 1 Axes>"
      ]
     },
     "metadata": {},
     "output_type": "display_data"
    },
    {
     "data": {
      "image/png": "[encoded data removed]",
      "text/plain": [
       "<Figure size 600x600 with 1 Axes>"
      ]
     },
     "metadata": {},
     "output_type": "display_data"
    },
    {
     "data": {
      "image/png": "[encoded data removed]",
      "text/plain": [
       "<Figure size 600x600 with 1 Axes>"
      ]
     },
     "metadata": {},
     "output_type": "display_data"
    }
   ],
   "source": [
    "# Distribution of 'PClass'\n",
    "plt.figure(figsize=(6, 6))\n",
    "pclass_distribution = train_data['Pclass'].value_counts()\n",
    "plt.pie(pclass_distribution, labels=pclass_distribution.index, autopct='%1.1f%%', colors=sns.color_palette(\"pastel\"))\n",
    "plt.title('Distribution of Passenger Class (PClass)')\n",
    "plt.show()\n",
    "\n",
    "# Distribution of 'Sex'\n",
    "plt.figure(figsize=(6, 6))\n",
    "sex_distribution = train_data['Sex'].value_counts()\n",
    "plt.pie(sex_distribution, labels=sex_distribution.index, autopct='%1.1f%%', colors=sns.color_palette(\"pastel\"))\n",
    "plt.title('Distribution of Gender (Sex)')\n",
    "plt.show()\n",
    "\n",
    "# Distribution of 'Embarked'\n",
    "plt.figure(figsize=(6, 6))\n",
    "embarked_distribution = train_data['Embarked'].value_counts()\n",
    "plt.pie(embarked_distribution, labels=embarked_distribution.index, autopct='%1.1f%%', colors=sns.color_palette(\"pastel\"))\n",
    "plt.title('Distribution of Embarked Port')\n",
    "plt.show()\n"
   ]
  },
  {
   "cell_type": "markdown",
   "id": "a9620ca9-1da5-4067-b437-e74b2cca2371",
   "metadata": {},
   "source": [
    "## Part 3 - Experiments\n",
    "You could add as many code cells as needed"
   ]
  },
  {
   "cell_type": "code",
   "execution_count": 98,
   "id": "93828bdf-a04d-4a70-898f-da0e4ba89d12",
   "metadata": {},
   "outputs": [],
   "source": [
    "X = train_data.drop(columns=['Survived'])\n",
    "y = train_data['Survived']\n",
    "\n",
    "numeric_features = ['Age', 'Fare', 'SibSp', 'Parch'] \n",
    "categorical_features = ['Pclass', 'Sex', 'Embarked']\n",
    "\n",
    "numeric_transformer = Pipeline(steps=[\n",
    "    ('imputer', SimpleImputer(strategy='mean')),  \n",
    "    ('scaler', StandardScaler())]) \n",
    "\n",
    "categorical_transformer = Pipeline(steps=[\n",
    "    ('imputer', SimpleImputer(strategy='most_frequent')),\n",
    "    ('onehot', OneHotEncoder(handle_unknown='ignore'))])  \n",
    "\n",
    "preprocessor = ColumnTransformer(\n",
    "    transformers=[\n",
    "        ('num', numeric_transformer, numeric_features),\n",
    "        ('cat', categorical_transformer, categorical_features)])"
   ]
  },
  {
   "cell_type": "code",
   "execution_count": 114,
   "id": "3047c72a-d627-4cf1-82b4-b48db66a55e5",
   "metadata": {},
   "outputs": [],
   "source": [
    "\n",
    "models = {\n",
    "    'K-Nearest Neighbors': KNeighborsClassifier(),\n",
    "    'Naive Bayes': GaussianNB()\n",
    "}\n",
    "\n",
    "param_grids = {\n",
    "    'K-Nearest Neighbors': {\n",
    "        'classifier__n_neighbors': [3, 5, 7, 9],  \n",
    "        'classifier__p': [1, 2]  \n",
    "    },\n",
    "    'Naive Bayes': {\n",
    "        'classifier__var_smoothing': [1e-9, 1e-8, 1e-7],  \n",
    "        'classifier__priors': [None, [0.4, 0.6]] \n",
    "    }\n",
    "}\n",
    "\n",
    "scalers = {\n",
    "    'Standard Scaler': StandardScaler(),\n",
    "    'MinMax Scaler': MinMaxScaler()\n",
    "}\n",
    "\n",
    "scorers = {\n",
    "    'precision': make_scorer(precision_score, average='macro'),\n",
    "    'recall': make_scorer(recall_score, average='macro'),\n",
    "    'f1': make_scorer(f1_score, average='macro')\n",
    "}\n",
    "\n",
    "results = []\n",
    "for scaler_name, scaler in scalers.items():\n",
    "    for name, model in models.items():\n",
    "        pipeline = Pipeline(steps=[('scaler', scaler), ('classifier', model)])\n",
    "        grid_search = GridSearchCV(pipeline, param_grids.get(name, {}), cv=5, scoring=scorers, refit='f1', n_jobs=-1)\n",
    "        grid_search.fit(X, y)\n",
    "\n",
    "        cv_results = cross_validate(grid_search.best_estimator_, X, y, cv=5, scoring=scorers)\n",
    "        for i in range(len(grid_search.cv_results_['params'])):\n",
    "            results.append({\n",
    "                'Method': name,\n",
    "                'Hyper Parameter': grid_search.cv_results_['params'][i],\n",
    "                'Scaling Method': scaler_name,\n",
    "                'Precision': grid_search.cv_results_['mean_test_precision'][i],\n",
    "                'Recall': grid_search.cv_results_['mean_test_recall'][i],\n",
    "                'F1': grid_search.cv_results_['mean_test_f1'][i]\n",
    "            })\n",
    "\n"
   ]
  },
  {
   "cell_type": "code",
   "execution_count": 100,
   "id": "f008b32a-ed23-4a8a-bff5-43b437527fef",
   "metadata": {},
   "outputs": [
    {
     "name": "stdout",
     "output_type": "stream",
     "text": [
      "\n",
      "Sorted Model Comparison (by F1 Score):\n"
     ]
    },
    {
     "data": {
      "text/html": [
       "<div>\n",
       "<style scoped>\n",
       "    .dataframe tbody tr th:only-of-type {\n",
       "        vertical-align: middle;\n",
       "    }\n",
       "\n",
       "    .dataframe tbody tr th {\n",
       "        vertical-align: top;\n",
       "    }\n",
       "\n",
       "    .dataframe thead th {\n",
       "        text-align: right;\n",
       "    }\n",
       "</style>\n",
       "<table border=\"1\" class=\"dataframe\">\n",
       "  <thead>\n",
       "    <tr style=\"text-align: right;\">\n",
       "      <th></th>\n",
       "      <th>Method</th>\n",
       "      <th>Hyper Parameter</th>\n",
       "      <th>Scaling Method</th>\n",
       "      <th>Precision</th>\n",
       "      <th>Recall</th>\n",
       "      <th>F1</th>\n",
       "    </tr>\n",
       "  </thead>\n",
       "  <tbody>\n",
       "    <tr>\n",
       "      <th>1</th>\n",
       "      <td>K-Nearest Neighbors</td>\n",
       "      <td>{'classifier__n_neighbors': 3, 'classifier__p': 2}</td>\n",
       "      <td>Standard Scaler</td>\n",
       "      <td>0.791639</td>\n",
       "      <td>0.787811</td>\n",
       "      <td>0.789033</td>\n",
       "    </tr>\n",
       "    <tr>\n",
       "      <th>15</th>\n",
       "      <td>K-Nearest Neighbors</td>\n",
       "      <td>{'classifier__n_neighbors': 3, 'classifier__p': 2}</td>\n",
       "      <td>MinMax Scaler</td>\n",
       "      <td>0.790788</td>\n",
       "      <td>0.783538</td>\n",
       "      <td>0.786155</td>\n",
       "    </tr>\n",
       "    <tr>\n",
       "      <th>14</th>\n",
       "      <td>K-Nearest Neighbors</td>\n",
       "      <td>{'classifier__n_neighbors': 3, 'classifier__p': 1}</td>\n",
       "      <td>MinMax Scaler</td>\n",
       "      <td>0.791071</td>\n",
       "      <td>0.783543</td>\n",
       "      <td>0.786029</td>\n",
       "    </tr>\n",
       "    <tr>\n",
       "      <th>4</th>\n",
       "      <td>K-Nearest Neighbors</td>\n",
       "      <td>{'classifier__n_neighbors': 7, 'classifier__p': 1}</td>\n",
       "      <td>Standard Scaler</td>\n",
       "      <td>0.794857</td>\n",
       "      <td>0.779285</td>\n",
       "      <td>0.783737</td>\n",
       "    </tr>\n",
       "    <tr>\n",
       "      <th>6</th>\n",
       "      <td>K-Nearest Neighbors</td>\n",
       "      <td>{'classifier__n_neighbors': 9, 'classifier__p': 1}</td>\n",
       "      <td>Standard Scaler</td>\n",
       "      <td>0.791462</td>\n",
       "      <td>0.780020</td>\n",
       "      <td>0.782787</td>\n",
       "    </tr>\n",
       "    <tr>\n",
       "      <th>5</th>\n",
       "      <td>K-Nearest Neighbors</td>\n",
       "      <td>{'classifier__n_neighbors': 7, 'classifier__p': 2}</td>\n",
       "      <td>Standard Scaler</td>\n",
       "      <td>0.787490</td>\n",
       "      <td>0.778225</td>\n",
       "      <td>0.781115</td>\n",
       "    </tr>\n",
       "    <tr>\n",
       "      <th>16</th>\n",
       "      <td>K-Nearest Neighbors</td>\n",
       "      <td>{'classifier__n_neighbors': 5, 'classifier__p': 1}</td>\n",
       "      <td>MinMax Scaler</td>\n",
       "      <td>0.786588</td>\n",
       "      <td>0.772861</td>\n",
       "      <td>0.776698</td>\n",
       "    </tr>\n",
       "    <tr>\n",
       "      <th>7</th>\n",
       "      <td>K-Nearest Neighbors</td>\n",
       "      <td>{'classifier__n_neighbors': 9, 'classifier__p': 2}</td>\n",
       "      <td>Standard Scaler</td>\n",
       "      <td>0.782950</td>\n",
       "      <td>0.771109</td>\n",
       "      <td>0.774381</td>\n",
       "    </tr>\n",
       "    <tr>\n",
       "      <th>2</th>\n",
       "      <td>K-Nearest Neighbors</td>\n",
       "      <td>{'classifier__n_neighbors': 5, 'classifier__p': 1}</td>\n",
       "      <td>Standard Scaler</td>\n",
       "      <td>0.780381</td>\n",
       "      <td>0.771833</td>\n",
       "      <td>0.774256</td>\n",
       "    </tr>\n",
       "    <tr>\n",
       "      <th>0</th>\n",
       "      <td>K-Nearest Neighbors</td>\n",
       "      <td>{'classifier__n_neighbors': 3, 'classifier__p': 1}</td>\n",
       "      <td>Standard Scaler</td>\n",
       "      <td>0.777035</td>\n",
       "      <td>0.773754</td>\n",
       "      <td>0.774239</td>\n",
       "    </tr>\n",
       "    <tr>\n",
       "      <th>17</th>\n",
       "      <td>K-Nearest Neighbors</td>\n",
       "      <td>{'classifier__n_neighbors': 5, 'classifier__p': 2}</td>\n",
       "      <td>MinMax Scaler</td>\n",
       "      <td>0.782381</td>\n",
       "      <td>0.768737</td>\n",
       "      <td>0.772531</td>\n",
       "    </tr>\n",
       "    <tr>\n",
       "      <th>18</th>\n",
       "      <td>K-Nearest Neighbors</td>\n",
       "      <td>{'classifier__n_neighbors': 7, 'classifier__p': 1}</td>\n",
       "      <td>MinMax Scaler</td>\n",
       "      <td>0.786046</td>\n",
       "      <td>0.766776</td>\n",
       "      <td>0.771895</td>\n",
       "    </tr>\n",
       "    <tr>\n",
       "      <th>10</th>\n",
       "      <td>Naive Bayes</td>\n",
       "      <td>{'classifier__priors': None, 'classifier__var_smoothing': 1e-07}</td>\n",
       "      <td>Standard Scaler</td>\n",
       "      <td>0.772140</td>\n",
       "      <td>0.767035</td>\n",
       "      <td>0.768966</td>\n",
       "    </tr>\n",
       "    <tr>\n",
       "      <th>24</th>\n",
       "      <td>Naive Bayes</td>\n",
       "      <td>{'classifier__priors': None, 'classifier__var_smoothing': 1e-07}</td>\n",
       "      <td>MinMax Scaler</td>\n",
       "      <td>0.772140</td>\n",
       "      <td>0.767035</td>\n",
       "      <td>0.768966</td>\n",
       "    </tr>\n",
       "    <tr>\n",
       "      <th>23</th>\n",
       "      <td>Naive Bayes</td>\n",
       "      <td>{'classifier__priors': None, 'classifier__var_smoothing': 1e-08}</td>\n",
       "      <td>MinMax Scaler</td>\n",
       "      <td>0.772140</td>\n",
       "      <td>0.767035</td>\n",
       "      <td>0.768966</td>\n",
       "    </tr>\n",
       "    <tr>\n",
       "      <th>9</th>\n",
       "      <td>Naive Bayes</td>\n",
       "      <td>{'classifier__priors': None, 'classifier__var_smoothing': 1e-08}</td>\n",
       "      <td>Standard Scaler</td>\n",
       "      <td>0.772140</td>\n",
       "      <td>0.767035</td>\n",
       "      <td>0.768966</td>\n",
       "    </tr>\n",
       "    <tr>\n",
       "      <th>8</th>\n",
       "      <td>Naive Bayes</td>\n",
       "      <td>{'classifier__priors': None, 'classifier__var_smoothing': 1e-09}</td>\n",
       "      <td>Standard Scaler</td>\n",
       "      <td>0.772140</td>\n",
       "      <td>0.767035</td>\n",
       "      <td>0.768966</td>\n",
       "    </tr>\n",
       "    <tr>\n",
       "      <th>22</th>\n",
       "      <td>Naive Bayes</td>\n",
       "      <td>{'classifier__priors': None, 'classifier__var_smoothing': 1e-09}</td>\n",
       "      <td>MinMax Scaler</td>\n",
       "      <td>0.772140</td>\n",
       "      <td>0.767035</td>\n",
       "      <td>0.768966</td>\n",
       "    </tr>\n",
       "    <tr>\n",
       "      <th>19</th>\n",
       "      <td>K-Nearest Neighbors</td>\n",
       "      <td>{'classifier__n_neighbors': 7, 'classifier__p': 2}</td>\n",
       "      <td>MinMax Scaler</td>\n",
       "      <td>0.778358</td>\n",
       "      <td>0.759125</td>\n",
       "      <td>0.764194</td>\n",
       "    </tr>\n",
       "    <tr>\n",
       "      <th>3</th>\n",
       "      <td>K-Nearest Neighbors</td>\n",
       "      <td>{'classifier__n_neighbors': 5, 'classifier__p': 2}</td>\n",
       "      <td>Standard Scaler</td>\n",
       "      <td>0.770248</td>\n",
       "      <td>0.761820</td>\n",
       "      <td>0.764017</td>\n",
       "    </tr>\n",
       "    <tr>\n",
       "      <th>20</th>\n",
       "      <td>K-Nearest Neighbors</td>\n",
       "      <td>{'classifier__n_neighbors': 9, 'classifier__p': 1}</td>\n",
       "      <td>MinMax Scaler</td>\n",
       "      <td>0.779371</td>\n",
       "      <td>0.757287</td>\n",
       "      <td>0.762816</td>\n",
       "    </tr>\n",
       "    <tr>\n",
       "      <th>21</th>\n",
       "      <td>K-Nearest Neighbors</td>\n",
       "      <td>{'classifier__n_neighbors': 9, 'classifier__p': 2}</td>\n",
       "      <td>MinMax Scaler</td>\n",
       "      <td>0.776343</td>\n",
       "      <td>0.754433</td>\n",
       "      <td>0.759080</td>\n",
       "    </tr>\n",
       "    <tr>\n",
       "      <th>11</th>\n",
       "      <td>Naive Bayes</td>\n",
       "      <td>{'classifier__priors': [0.4, 0.6], 'classifier__var_smoothing': 1e-09}</td>\n",
       "      <td>Standard Scaler</td>\n",
       "      <td>0.755303</td>\n",
       "      <td>0.761279</td>\n",
       "      <td>0.755856</td>\n",
       "    </tr>\n",
       "    <tr>\n",
       "      <th>13</th>\n",
       "      <td>Naive Bayes</td>\n",
       "      <td>{'classifier__priors': [0.4, 0.6], 'classifier__var_smoothing': 1e-07}</td>\n",
       "      <td>Standard Scaler</td>\n",
       "      <td>0.755303</td>\n",
       "      <td>0.761279</td>\n",
       "      <td>0.755856</td>\n",
       "    </tr>\n",
       "    <tr>\n",
       "      <th>12</th>\n",
       "      <td>Naive Bayes</td>\n",
       "      <td>{'classifier__priors': [0.4, 0.6], 'classifier__var_smoothing': 1e-08}</td>\n",
       "      <td>Standard Scaler</td>\n",
       "      <td>0.755303</td>\n",
       "      <td>0.761279</td>\n",
       "      <td>0.755856</td>\n",
       "    </tr>\n",
       "    <tr>\n",
       "      <th>25</th>\n",
       "      <td>Naive Bayes</td>\n",
       "      <td>{'classifier__priors': [0.4, 0.6], 'classifier__var_smoothing': 1e-09}</td>\n",
       "      <td>MinMax Scaler</td>\n",
       "      <td>0.755303</td>\n",
       "      <td>0.761279</td>\n",
       "      <td>0.755856</td>\n",
       "    </tr>\n",
       "    <tr>\n",
       "      <th>26</th>\n",
       "      <td>Naive Bayes</td>\n",
       "      <td>{'classifier__priors': [0.4, 0.6], 'classifier__var_smoothing': 1e-08}</td>\n",
       "      <td>MinMax Scaler</td>\n",
       "      <td>0.755303</td>\n",
       "      <td>0.761279</td>\n",
       "      <td>0.755856</td>\n",
       "    </tr>\n",
       "    <tr>\n",
       "      <th>27</th>\n",
       "      <td>Naive Bayes</td>\n",
       "      <td>{'classifier__priors': [0.4, 0.6], 'classifier__var_smoothing': 1e-07}</td>\n",
       "      <td>MinMax Scaler</td>\n",
       "      <td>0.755303</td>\n",
       "      <td>0.761279</td>\n",
       "      <td>0.755856</td>\n",
       "    </tr>\n",
       "  </tbody>\n",
       "</table>\n",
       "</div>"
      ],
      "text/plain": [
       "                 Method  \\\n",
       "1   K-Nearest Neighbors   \n",
       "15  K-Nearest Neighbors   \n",
       "14  K-Nearest Neighbors   \n",
       "4   K-Nearest Neighbors   \n",
       "6   K-Nearest Neighbors   \n",
       "5   K-Nearest Neighbors   \n",
       "16  K-Nearest Neighbors   \n",
       "7   K-Nearest Neighbors   \n",
       "2   K-Nearest Neighbors   \n",
       "0   K-Nearest Neighbors   \n",
       "17  K-Nearest Neighbors   \n",
       "18  K-Nearest Neighbors   \n",
       "10          Naive Bayes   \n",
       "24          Naive Bayes   \n",
       "23          Naive Bayes   \n",
       "9           Naive Bayes   \n",
       "8           Naive Bayes   \n",
       "22          Naive Bayes   \n",
       "19  K-Nearest Neighbors   \n",
       "3   K-Nearest Neighbors   \n",
       "20  K-Nearest Neighbors   \n",
       "21  K-Nearest Neighbors   \n",
       "11          Naive Bayes   \n",
       "13          Naive Bayes   \n",
       "12          Naive Bayes   \n",
       "25          Naive Bayes   \n",
       "26          Naive Bayes   \n",
       "27          Naive Bayes   \n",
       "\n",
       "                                                           Hyper Parameter  \\\n",
       "1                       {'classifier__n_neighbors': 3, 'classifier__p': 2}   \n",
       "15                      {'classifier__n_neighbors': 3, 'classifier__p': 2}   \n",
       "14                      {'classifier__n_neighbors': 3, 'classifier__p': 1}   \n",
       "4                       {'classifier__n_neighbors': 7, 'classifier__p': 1}   \n",
       "6                       {'classifier__n_neighbors': 9, 'classifier__p': 1}   \n",
       "5                       {'classifier__n_neighbors': 7, 'classifier__p': 2}   \n",
       "16                      {'classifier__n_neighbors': 5, 'classifier__p': 1}   \n",
       "7                       {'classifier__n_neighbors': 9, 'classifier__p': 2}   \n",
       "2                       {'classifier__n_neighbors': 5, 'classifier__p': 1}   \n",
       "0                       {'classifier__n_neighbors': 3, 'classifier__p': 1}   \n",
       "17                      {'classifier__n_neighbors': 5, 'classifier__p': 2}   \n",
       "18                      {'classifier__n_neighbors': 7, 'classifier__p': 1}   \n",
       "10        {'classifier__priors': None, 'classifier__var_smoothing': 1e-07}   \n",
       "24        {'classifier__priors': None, 'classifier__var_smoothing': 1e-07}   \n",
       "23        {'classifier__priors': None, 'classifier__var_smoothing': 1e-08}   \n",
       "9         {'classifier__priors': None, 'classifier__var_smoothing': 1e-08}   \n",
       "8         {'classifier__priors': None, 'classifier__var_smoothing': 1e-09}   \n",
       "22        {'classifier__priors': None, 'classifier__var_smoothing': 1e-09}   \n",
       "19                      {'classifier__n_neighbors': 7, 'classifier__p': 2}   \n",
       "3                       {'classifier__n_neighbors': 5, 'classifier__p': 2}   \n",
       "20                      {'classifier__n_neighbors': 9, 'classifier__p': 1}   \n",
       "21                      {'classifier__n_neighbors': 9, 'classifier__p': 2}   \n",
       "11  {'classifier__priors': [0.4, 0.6], 'classifier__var_smoothing': 1e-09}   \n",
       "13  {'classifier__priors': [0.4, 0.6], 'classifier__var_smoothing': 1e-07}   \n",
       "12  {'classifier__priors': [0.4, 0.6], 'classifier__var_smoothing': 1e-08}   \n",
       "25  {'classifier__priors': [0.4, 0.6], 'classifier__var_smoothing': 1e-09}   \n",
       "26  {'classifier__priors': [0.4, 0.6], 'classifier__var_smoothing': 1e-08}   \n",
       "27  {'classifier__priors': [0.4, 0.6], 'classifier__var_smoothing': 1e-07}   \n",
       "\n",
       "     Scaling Method  Precision    Recall        F1  \n",
       "1   Standard Scaler   0.791639  0.787811  0.789033  \n",
       "15    MinMax Scaler   0.790788  0.783538  0.786155  \n",
       "14    MinMax Scaler   0.791071  0.783543  0.786029  \n",
       "4   Standard Scaler   0.794857  0.779285  0.783737  \n",
       "6   Standard Scaler   0.791462  0.780020  0.782787  \n",
       "5   Standard Scaler   0.787490  0.778225  0.781115  \n",
       "16    MinMax Scaler   0.786588  0.772861  0.776698  \n",
       "7   Standard Scaler   0.782950  0.771109  0.774381  \n",
       "2   Standard Scaler   0.780381  0.771833  0.774256  \n",
       "0   Standard Scaler   0.777035  0.773754  0.774239  \n",
       "17    MinMax Scaler   0.782381  0.768737  0.772531  \n",
       "18    MinMax Scaler   0.786046  0.766776  0.771895  \n",
       "10  Standard Scaler   0.772140  0.767035  0.768966  \n",
       "24    MinMax Scaler   0.772140  0.767035  0.768966  \n",
       "23    MinMax Scaler   0.772140  0.767035  0.768966  \n",
       "9   Standard Scaler   0.772140  0.767035  0.768966  \n",
       "8   Standard Scaler   0.772140  0.767035  0.768966  \n",
       "22    MinMax Scaler   0.772140  0.767035  0.768966  \n",
       "19    MinMax Scaler   0.778358  0.759125  0.764194  \n",
       "3   Standard Scaler   0.770248  0.761820  0.764017  \n",
       "20    MinMax Scaler   0.779371  0.757287  0.762816  \n",
       "21    MinMax Scaler   0.776343  0.754433  0.759080  \n",
       "11  Standard Scaler   0.755303  0.761279  0.755856  \n",
       "13  Standard Scaler   0.755303  0.761279  0.755856  \n",
       "12  Standard Scaler   0.755303  0.761279  0.755856  \n",
       "25    MinMax Scaler   0.755303  0.761279  0.755856  \n",
       "26    MinMax Scaler   0.755303  0.761279  0.755856  \n",
       "27    MinMax Scaler   0.755303  0.761279  0.755856  "
      ]
     },
     "metadata": {},
     "output_type": "display_data"
    }
   ],
   "source": [
    "results_df = pd.DataFrame(results)\n",
    "pd.set_option('display.max_colwidth', None)\n",
    "sorted_results_df = results_df.sort_values(by='F1', ascending=False)\n",
    "print(\"\\nSorted Model Comparison (by F1 Score):\")\n",
    "display(sorted_results_df)"
   ]
  },
  {
   "cell_type": "markdown",
   "id": "67d97f11",
   "metadata": {
    "id": "67d97f11"
   },
   "source": [
    "## Part 4 - Training\n",
    "Use the best combination of feature engineering, model (algorithm and hyperparameters) from the experiment part (part 3)"
   ]
  },
  {
   "cell_type": "code",
   "execution_count": 101,
   "id": "93713ead",
   "metadata": {
    "id": "93713ead"
   },
   "outputs": [],
   "source": [
    "numeric_features = ['Age', 'Fare', 'SibSp', 'Parch']\n",
    "categorical_features = ['Pclass', 'Sex', 'Embarked']\n",
    "\n",
    "numeric_transformer = Pipeline(steps=[\n",
    "    ('imputer', SimpleImputer(strategy='mean')),\n",
    "    ('scaler', StandardScaler())])\n",
    "\n",
    "categorical_transformer = Pipeline(steps=[\n",
    "    ('imputer', SimpleImputer(strategy='most_frequent')),\n",
    "    ('onehot', OneHotEncoder(handle_unknown='ignore'))])\n",
    "\n",
    "preprocessor = ColumnTransformer(\n",
    "    transformers=[\n",
    "        ('num', numeric_transformer, numeric_features),\n",
    "        ('cat', categorical_transformer, categorical_features)])"
   ]
  },
  {
   "cell_type": "code",
   "execution_count": 112,
   "id": "c0fc460d",
   "metadata": {
    "id": "c0fc460d"
   },
   "outputs": [
    {
     "name": "stdout",
     "output_type": "stream",
     "text": [
      "Model training completed with the best combination!\n"
     ]
    }
   ],
   "source": [
    "pipeline = Pipeline(steps=[('preprocessor', preprocessor),\n",
    "                           ('classifier', KNeighborsClassifier(n_neighbors=3, p=2))])\n",
    "pipeline.fit(X, y)\n",
    "print(\"Model training completed with the best combination!\")\n"
   ]
  },
  {
   "cell_type": "markdown",
   "id": "259ab902",
   "metadata": {
    "id": "259ab902"
   },
   "source": [
    "## Part 5 - Apply on test and show model performance estimation"
   ]
  },
  {
   "cell_type": "code",
   "execution_count": 103,
   "id": "9bca443a-2489-450a-8ebc-0e6bddee0f0a",
   "metadata": {},
   "outputs": [
    {
     "name": "stdout",
     "output_type": "stream",
     "text": [
      "[1 1 0 0 0]\n",
      "[1 1 0 0 0]\n"
     ]
    }
   ],
   "source": [
    "y_pred = pipeline.predict(X)\n",
    "print(y_pred[:5])\n",
    "print(y[:5].values)\n"
   ]
  },
  {
   "cell_type": "markdown",
   "id": "615e63e5-c602-42ba-b3b4-115a4c7bd8a1",
   "metadata": {},
   "source": [
    "#### Printing the first 5 predicted classifications VS the real classifications\n"
   ]
  },
  {
   "cell_type": "code",
   "execution_count": 104,
   "id": "5906112a-7ea7-41e2-ad91-f192ff8b1a71",
   "metadata": {},
   "outputs": [
    {
     "name": "stdout",
     "output_type": "stream",
     "text": [
      "Precision: 0.8617\n",
      "Recall: 0.8509\n",
      "F1 Score: 0.8554\n"
     ]
    }
   ],
   "source": [
    "precision = precision_score(y, y_pred, average='macro')\n",
    "recall = recall_score(y, y_pred, average='macro')\n",
    "f1 = f1_score(y, y_pred, average='macro')\n",
    "\n",
    "print(f\"Precision: {precision:.4f}\")\n",
    "print(f\"Recall: {recall:.4f}\")\n",
    "print(f\"F1 Score: {f1:.4f}\")"
   ]
  },
  {
   "cell_type": "markdown",
   "id": "8d5203f1-3c98-420c-a78e-21c04bb8256d",
   "metadata": {
    "id": "00d8aa96"
   },
   "source": [
    "Showing the model's performance report"
   ]
  }
 ],
 "metadata": {
  "colab": {
   "provenance": []
  },
  "kernelspec": {
   "display_name": "Python 3 (ipykernel)",
   "language": "python",
   "name": "python3"
  },
  "language_info": {
   "codemirror_mode": {
    "name": "ipython",
    "version": 3
   },
   "file_extension": ".py",
   "mimetype": "text/x-python",
   "name": "python",
   "nbconvert_exporter": "python",
   "pygments_lexer": "ipython3",
   "version": "3.12.2"
  }
 },
 "nbformat": 4,
 "nbformat_minor": 5
}
